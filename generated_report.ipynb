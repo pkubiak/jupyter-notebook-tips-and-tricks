{
 "cells": [
  {
   "cell_type": "code",
   "execution_count": 1,
   "id": "2ce73257",
   "metadata": {
    "execution": {
     "iopub.execute_input": "2021-06-23T08:00:03.241168Z",
     "iopub.status.busy": "2021-06-23T08:00:03.240790Z",
     "iopub.status.idle": "2021-06-23T08:00:03.242962Z",
     "shell.execute_reply": "2021-06-23T08:00:03.242546Z"
    },
    "papermill": {
     "duration": 0.009957,
     "end_time": "2021-06-23T08:00:03.243053",
     "exception": false,
     "start_time": "2021-06-23T08:00:03.233096",
     "status": "completed"
    },
    "tags": [
     "parameters"
    ]
   },
   "outputs": [],
   "source": [
    "CULTURE = \"fr-FR\"\n",
    "DEVICE = \"mobile\""
   ]
  },
  {
   "cell_type": "code",
   "execution_count": 2,
   "id": "b1ef12a5",
   "metadata": {
    "execution": {
     "iopub.execute_input": "2021-06-23T08:00:03.249822Z",
     "iopub.status.busy": "2021-06-23T08:00:03.249441Z",
     "iopub.status.idle": "2021-06-23T08:00:03.251368Z",
     "shell.execute_reply": "2021-06-23T08:00:03.250995Z"
    },
    "papermill": {
     "duration": 0.006175,
     "end_time": "2021-06-23T08:00:03.251448",
     "exception": false,
     "start_time": "2021-06-23T08:00:03.245273",
     "status": "completed"
    },
    "tags": [
     "injected-parameters"
    ]
   },
   "outputs": [],
   "source": [
    "# Parameters\n",
    "CULTURE = \"en-US\"\n",
    "DEVICE = \"tv\"\n"
   ]
  },
  {
   "cell_type": "code",
   "execution_count": 3,
   "id": "5ec5d716",
   "metadata": {
    "execution": {
     "iopub.execute_input": "2021-06-23T08:00:03.258058Z",
     "iopub.status.busy": "2021-06-23T08:00:03.257689Z",
     "iopub.status.idle": "2021-06-23T08:00:03.259634Z",
     "shell.execute_reply": "2021-06-23T08:00:03.259926Z"
    },
    "papermill": {
     "duration": 0.006775,
     "end_time": "2021-06-23T08:00:03.260024",
     "exception": false,
     "start_time": "2021-06-23T08:00:03.253249",
     "status": "completed"
    },
    "tags": []
   },
   "outputs": [
    {
     "name": "stdout",
     "output_type": "stream",
     "text": [
      "Hello en-US.tv\n"
     ]
    }
   ],
   "source": [
    "print(f\"Hello {CULTURE}.{DEVICE}\")"
   ]
  }
 ],
 "metadata": {
  "celltoolbar": "Tags",
  "kernelspec": {
   "display_name": "Python 3",
   "language": "python",
   "name": "python3"
  },
  "language_info": {
   "codemirror_mode": {
    "name": "ipython",
    "version": 3
   },
   "file_extension": ".py",
   "mimetype": "text/x-python",
   "name": "python",
   "nbconvert_exporter": "python",
   "pygments_lexer": "ipython3",
   "version": "3.8.9"
  },
  "papermill": {
   "default_parameters": {},
   "duration": 0.903814,
   "end_time": "2021-06-23T08:00:03.467412",
   "environment_variables": {},
   "exception": null,
   "input_path": "parameters.ipynb",
   "output_path": "out.ipynb",
   "parameters": {
    "CULTURE": "en-US",
    "DEVICE": "tv"
   },
   "start_time": "2021-06-23T08:00:02.563598",
   "version": "2.3.3"
  }
 },
 "nbformat": 4,
 "nbformat_minor": 5
}