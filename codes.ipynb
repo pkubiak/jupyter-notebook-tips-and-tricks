{
 "cells": [
  {
   "cell_type": "code",
   "execution_count": 4,
   "id": "31e5798a",
   "metadata": {},
   "outputs": [
    {
     "name": "stdout",
     "output_type": "stream",
     "text": [
      "Hello From other notebook\n"
     ]
    }
   ],
   "source": [
    "def other_function():\n",
    "    print(\"Hello From other notebook\")\n",
    "\n",
    "other_function()"
   ]
  }
 ],
 "metadata": {
  "kernelspec": {
   "display_name": "Python 3",
   "language": "python",
   "name": "python3"
  },
  "language_info": {
   "codemirror_mode": {
    "name": "ipython",
    "version": 3
   },
   "file_extension": ".py",
   "mimetype": "text/x-python",
   "name": "python",
   "nbconvert_exporter": "python",
   "pygments_lexer": "ipython3",
   "version": "3.8.9"
  }
 },
 "nbformat": 4,
 "nbformat_minor": 5
}
